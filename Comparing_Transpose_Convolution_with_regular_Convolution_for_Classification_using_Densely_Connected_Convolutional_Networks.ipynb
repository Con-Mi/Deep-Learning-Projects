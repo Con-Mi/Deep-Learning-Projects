{
  "nbformat": 4,
  "nbformat_minor": 0,
  "metadata": {
    "colab": {
      "name": "Comparing Transpose Convolution with regular Convolution for Classification using Densely Connected Convolutional Networks",
      "version": "0.3.2",
      "provenance": [],
      "collapsed_sections": [],
      "include_colab_link": true
    },
    "kernelspec": {
      "name": "python3",
      "display_name": "Python 3"
    },
    "accelerator": "GPU"
  },
  "cells": [
    {
      "cell_type": "markdown",
      "metadata": {
        "id": "view-in-github",
        "colab_type": "text"
      },
      "source": [
        "[View in Colaboratory](https://colab.research.google.com/github/Con-Mi/Deep-Learning-Projects/blob/master/Comparing_Transpose_Convolution_with_regular_Convolution_for_Classification_using_Densely_Connected_Convolutional_Networks.ipynb)"
      ]
    },
    {
      "metadata": {
        "id": "PsQPitv97yFa",
        "colab_type": "text"
      },
      "cell_type": "markdown",
      "source": [
        "## Check my blog post [here](https://goosemi.wordpress.com/) for a more detail explanation of this model."
      ]
    },
    {
      "metadata": {
        "id": "yijKuHjI8ZRS",
        "colab_type": "code",
        "colab": {
          "base_uri": "https://localhost:8080/",
          "height": 313
        },
        "outputId": "9e36b43b-379d-4b52-9949-ac613a7e7166"
      },
      "cell_type": "code",
      "source": [
        "# Install PyTorch(version 4) and torchvision libraries\n",
        "!pip install torch torchvision"
      ],
      "execution_count": 1,
      "outputs": [
        {
          "output_type": "stream",
          "text": [
            "Collecting torch\n",
            "\u001b[?25l  Downloading https://files.pythonhosted.org/packages/69/43/380514bd9663f1bf708abeb359b8b48d3fabb1c8e95bb3427a980a064c57/torch-0.4.0-cp36-cp36m-manylinux1_x86_64.whl (484.0MB)\n",
            "\u001b[K    100% |████████████████████████████████| 484.0MB 32kB/s \n",
            "tcmalloc: large alloc 1073750016 bytes == 0x5c120000 @  0x7f8f217391c4 0x46d6a4 0x5fcbcc 0x4c494d 0x54f3c4 0x553aaf 0x54e4c8 0x54f4f6 0x553aaf 0x54efc1 0x54f24d 0x553aaf 0x54efc1 0x54f24d 0x553aaf 0x54efc1 0x54f24d 0x551ee0 0x54e4c8 0x54f4f6 0x553aaf 0x54efc1 0x54f24d 0x551ee0 0x54efc1 0x54f24d 0x551ee0 0x54e4c8 0x54f4f6 0x553aaf 0x54e4c8\n",
            "\u001b[?25hCollecting torchvision\n",
            "\u001b[?25l  Downloading https://files.pythonhosted.org/packages/ca/0d/f00b2885711e08bd71242ebe7b96561e6f6d01fdb4b9dcf4d37e2e13c5e1/torchvision-0.2.1-py2.py3-none-any.whl (54kB)\n",
            "\u001b[K    100% |████████████████████████████████| 61kB 8.5MB/s \n",
            "\u001b[?25hCollecting pillow>=4.1.1 (from torchvision)\n",
            "\u001b[?25l  Downloading https://files.pythonhosted.org/packages/d1/24/f53ff6b61b3d728b90934bddb4f03f8ab584a7f49299bf3bde56e2952612/Pillow-5.2.0-cp36-cp36m-manylinux1_x86_64.whl (2.0MB)\n",
            "\u001b[K    100% |████████████████████████████████| 2.0MB 2.3MB/s \n",
            "\u001b[?25hRequirement already satisfied: numpy in /usr/local/lib/python3.6/dist-packages (from torchvision) (1.14.5)\n",
            "Requirement already satisfied: six in /usr/local/lib/python3.6/dist-packages (from torchvision) (1.11.0)\n",
            "Installing collected packages: torch, pillow, torchvision\n",
            "  Found existing installation: Pillow 4.0.0\n",
            "    Uninstalling Pillow-4.0.0:\n",
            "      Successfully uninstalled Pillow-4.0.0\n",
            "Successfully installed pillow-5.2.0 torch-0.4.0 torchvision-0.2.1\n"
          ],
          "name": "stdout"
        }
      ]
    },
    {
      "metadata": {
        "id": "Jg7lrTsWbbTn",
        "colab_type": "code",
        "colab": {
          "base_uri": "https://localhost:8080/",
          "height": 33
        },
        "outputId": "0fa98593-0106-4a4b-f337-4427a7de59da"
      },
      "cell_type": "code",
      "source": [
        "import gc\n",
        "#Garbage Collector\n",
        "gc.collect()"
      ],
      "execution_count": 2,
      "outputs": [
        {
          "output_type": "execute_result",
          "data": {
            "text/plain": [
              "291"
            ]
          },
          "metadata": {
            "tags": []
          },
          "execution_count": 2
        }
      ]
    },
    {
      "metadata": {
        "id": "t7KFed-k_RVu",
        "colab_type": "code",
        "colab": {
          "base_uri": "https://localhost:8080/",
          "height": 50
        },
        "outputId": "f58f4908-5df3-40fb-9e22-c24197b8bcbb"
      },
      "cell_type": "code",
      "source": [
        "import torchvision\n",
        "import torchvision.transforms as transforms\n",
        "\n",
        "transform = transforms.Compose(\n",
        "    [transforms.ToTensor(),\n",
        "     transforms.Normalize((0.5, 0.5, 0.5), (0.5, 0.5, 0.5))])\n",
        "\n",
        "trainset = torchvision.datasets.CIFAR10(root='./data', train=True,\n",
        "                                        download=True, transform=transform)\n",
        "\n",
        "testset = torchvision.datasets.CIFAR10(root='./data', train=False,\n",
        "                                       download=True, transform=transform)\n",
        "\n",
        "classes = ('plane', 'car', 'bird', 'cat',\n",
        "           'deer', 'dog', 'frog', 'horse', 'ship', 'truck')"
      ],
      "execution_count": 3,
      "outputs": [
        {
          "output_type": "stream",
          "text": [
            "Downloading https://www.cs.toronto.edu/~kriz/cifar-10-python.tar.gz to ./data/cifar-10-python.tar.gz\n",
            "Files already downloaded and verified\n"
          ],
          "name": "stdout"
        }
      ]
    },
    {
      "metadata": {
        "id": "JiaBkGkU207v",
        "colab_type": "code",
        "colab": {}
      },
      "cell_type": "code",
      "source": [
        "\"\"\"\n",
        "\tThe Network Class\n",
        "\"\"\"\n",
        "\n",
        "import torch\n",
        "import torch.nn as nn\n",
        "import math\n",
        "\n",
        "class Dense_Block_Transposed(nn.Module):\n",
        "\tdef __init__(self, in_channels):\n",
        "\t\tsuper(Dense_Block_Transposed, self).__init__()\n",
        "\n",
        "\t\tself.relu = nn.LeakyReLU(inplace = True)\n",
        "\t\tself.bn = nn.BatchNorm2d(num_features = in_channels)\n",
        "    \n",
        "\n",
        "\t\tself.conv1 = nn.ConvTranspose2d(in_channels = in_channels, out_channels = 32, kernel_size = 3, stride = 1, padding = 1)\n",
        "\t\tself.conv2 = nn.ConvTranspose2d(in_channels = 32, out_channels = 32, kernel_size = 3, stride = 1, padding = 1)\n",
        "\t\tself.conv3 = nn.ConvTranspose2d(in_channels = 64, out_channels = 32, kernel_size = 3, stride = 1, padding = 1)\n",
        "\t\tself.conv4 = nn.ConvTranspose2d(in_channels = 96, out_channels = 32, kernel_size = 3, stride = 1, padding = 1)\n",
        "\t\tself.conv5 = nn.ConvTranspose2d(in_channels = 128, out_channels = 32, kernel_size = 3, stride = 1, padding = 1)\n",
        "\n",
        "    \n",
        "\tdef forward(self, x):\n",
        "\n",
        "\t\tbn = self.bn(x)\n",
        "\t\tconv1 = self.relu(self.conv1(bn))\n",
        "\n",
        "\t\tconv2 = self.relu(self.conv2(conv1))\n",
        "\t\tc2_dense = self.relu(torch.cat([conv1, conv2], 1))\n",
        "\n",
        "\t\tconv3 = self.relu(self.conv3(c2_dense))\n",
        "\t\tc3_dense = self.relu(torch.cat([conv1, conv2, conv3], 1))\n",
        "\n",
        "\t\tconv4 = self.relu(self.conv4(c3_dense))\n",
        "\t\tc4_dense = self.relu(torch.cat([conv1, conv2, conv3, conv4], 1))\n",
        "\n",
        "\t\tconv5 = self.relu(self.conv5(c4_dense))\n",
        "\t\tc5_dense = self.relu(torch.cat([conv1, conv2, conv3, conv4, conv5], 1))\n",
        "\n",
        "\t\treturn c5_dense\n",
        "\n",
        "\n",
        "class Transition_Layer_Transposed(nn.Module):\n",
        "\tdef __init__(self, in_channels, out_channels):\n",
        "\t\tsuper(Transition_Layer_Transposed, self).__init__()\n",
        "\n",
        "\t\tself.relu = nn.LeakyReLU(inplace = True)\n",
        "\t\tself.bn = nn.BatchNorm2d(num_features = out_channels)\n",
        "\t\tself.conv = nn.ConvTranspose2d(in_channels = in_channels, out_channels = out_channels, kernel_size = 1, bias = False)\n",
        "\t\tself.avg_pool = nn.AvgPool2d(kernel_size = 2, stride = 2, padding = 0)\n",
        "\n",
        "\tdef forward(self, x):\n",
        "\n",
        "\t\tbn = self.bn(self.relu(self.conv(x)))\n",
        "\t\tout = self.avg_pool(bn)\n",
        "\n",
        "\t\treturn out\n",
        "\n",
        "\n",
        "class DenseNetTransposed(nn.Module):\n",
        "\tdef __init__(self, nr_classes):\n",
        "\t\tsuper(DenseNetTransposed, self).__init__()\n",
        "\n",
        "\t\tself.lowconv = nn.ConvTranspose2d(in_channels = 3, out_channels = 64, kernel_size = 7, padding = 3, bias = False)\n",
        "\t\tself.relu = nn.LeakyReLU(inplace = True)\n",
        "\n",
        "\t\t# Make Dense Blocks\n",
        "\t\tself.denseblock1 = self._make_dense_block(Dense_Block_Transposed, 64)\n",
        "\t\tself.denseblock2 = self._make_dense_block(Dense_Block_Transposed, 128)\n",
        "\t\tself.denseblock3 = self._make_dense_block(Dense_Block_Transposed, 128)\n",
        "\n",
        "\t\t# Make transition Layers\n",
        "\t\tself.transitionLayer1 = self._make_transition_layer(Transition_Layer_Transposed, in_channels = 160, out_channels = 128)\n",
        "\t\tself.transitionLayer2 = self._make_transition_layer(Transition_Layer_Transposed, in_channels = 160, out_channels = 128)\n",
        "\t\tself.transitionLayer3 = self._make_transition_layer(Transition_Layer_Transposed, in_channels = 160, out_channels = 64)\n",
        "\n",
        "\t\t# Classifier\n",
        "\t\tself.bn = nn.BatchNorm2d(num_features = 64)\n",
        "\t\tself.pre_classifier = nn.Linear(64*4*4, 512)\n",
        "\t\tself.classifier = nn.Linear(512, nr_classes)\n",
        "\n",
        "\tdef _make_dense_block(self, block, in_channels):\n",
        "\t\tlayers = []\n",
        "\t\tlayers.append(block(in_channels))\n",
        "\t\treturn nn.Sequential(*layers)\n",
        "\n",
        "\tdef _make_transition_layer(self, layer, in_channels, out_channels):\n",
        "\t\tmodules = []\n",
        "\t\tmodules.append(layer(in_channels, out_channels))\n",
        "\t\treturn nn.Sequential(*modules)\n",
        "\n",
        "\tdef forward(self, x):\n",
        "\t\tout = self.relu(self.lowconv(x))\n",
        "\n",
        "\t\tout = self.denseblock1(out)\n",
        "\t\tout = self.transitionLayer1(out)\n",
        "\n",
        "\t\tout = self.denseblock2(out)\n",
        "\t\tout = self.transitionLayer2(out)\n",
        "\n",
        "\t\tout = self.denseblock3(out)\n",
        "\t\tout = self.transitionLayer3(out)\n",
        "    \n",
        "\t\tout = self.bn(out)\n",
        "\t\tout = out.view(-1, 64*4*4)\n",
        "\n",
        "\t\tout = self.pre_classifier(out)\n",
        "\t\tout = self.classifier(out)\n",
        "\n",
        "\t\treturn out\n"
      ],
      "execution_count": 0,
      "outputs": []
    },
    {
      "metadata": {
        "id": "M4b1u2BTBDus",
        "colab_type": "code",
        "colab": {
          "base_uri": "https://localhost:8080/",
          "height": 2032
        },
        "outputId": "b09a9e3a-fb45-4448-df23-924fe016c443"
      },
      "cell_type": "code",
      "source": [
        "import time\n",
        "import torch.optim as optim\n",
        "from torch.autograd import Variable\n",
        "\n",
        "# GPU flag\n",
        "use_gpu = torch.cuda.is_available()\n",
        "\n",
        "# Hyperparameters\n",
        "batch_size = 10\n",
        "momentum = 0.92\n",
        "learning_rate = 0.0001\n",
        "nr_classes = 10\n",
        "nr_epochs = 60\n",
        "loss_vctr_trnsps = []\n",
        "\n",
        "# Load the model on the GPU\n",
        "densenet_trnsps = DenseNetTransposed(nr_classes)\n",
        "if use_gpu:\n",
        "  densenet_trnsps.cuda()\n",
        "\n",
        "# Data Loaders\n",
        "trainloader = torch.utils.data.DataLoader(trainset, batch_size=batch_size,\n",
        "                                          shuffle=True, num_workers=4)\n",
        "\n",
        "testloader = torch.utils.data.DataLoader(testset, batch_size=batch_size,\n",
        "                                         shuffle=False, num_workers=4)\n",
        "\n",
        "start = time.time()\n",
        "\n",
        "# Oprimization Criteria and Optimization method\n",
        "criterion = nn.CrossEntropyLoss().cuda() if use_gpu else nn.CrossEntropyLoss()\n",
        "optimizer = optim.SGD(densenet_trnsps.parameters(), lr=learning_rate, momentum=momentum, nesterov = False)\n",
        "\n",
        "# Training Loop\n",
        "print(\"Start of the Optimization Processs..\")\n",
        "for epoch in range(nr_epochs):  \n",
        "\n",
        "    running_loss = 0.0\n",
        "    for i, data in enumerate(trainloader, 0):\n",
        "        # get the inputs\n",
        "        inputs, labels = data\n",
        "        inputs = Variable(inputs).cuda() \n",
        "        labels = Variable(labels).cuda()\n",
        "        \n",
        "        # zero the parameter gradients\n",
        "        optimizer.zero_grad()\n",
        "\n",
        "        # forward + backward + optimize\n",
        "        outputs = densenet_trnsps(inputs)\n",
        "        loss = criterion(outputs, labels)\n",
        "        loss.backward()\n",
        "        optimizer.step()\n",
        "\n",
        "        # print statistics\n",
        "        running_loss += loss.item()\n",
        "        if i % 2000 == 1999:    # print every 2000 mini-batches\n",
        "            loss_vctr_trnsps.append(running_loss / 2000)\n",
        "            print('[%d, %5d] loss: %.6f' %\n",
        "                  (epoch + 1, i + 1, running_loss / 2000))\n",
        "            running_loss = 0.0\n",
        "    \n",
        "print(\"^^^^^^^^^^^^^^^^^\")\n",
        "print('Finished Optimization.')\n",
        "end = time.time() # Time counted in seconds\n",
        "print(\"The total time to train the model on the K80 GPU is : {:.1f} minutes.\".format((end - start)/60))"
      ],
      "execution_count": 5,
      "outputs": [
        {
          "output_type": "stream",
          "text": [
            "Start of the Optimization Processs..\n",
            "[1,  2000] loss: 1.705589\n",
            "[1,  4000] loss: 1.344412\n",
            "[2,  2000] loss: 1.110875\n",
            "[2,  4000] loss: 1.027956\n",
            "[3,  2000] loss: 0.901889\n",
            "[3,  4000] loss: 0.871348\n",
            "[4,  2000] loss: 0.783466\n",
            "[4,  4000] loss: 0.770353\n",
            "[5,  2000] loss: 0.703065\n",
            "[5,  4000] loss: 0.696938\n",
            "[6,  2000] loss: 0.626112\n",
            "[6,  4000] loss: 0.639383\n",
            "[7,  2000] loss: 0.574428\n",
            "[7,  4000] loss: 0.578986\n",
            "[8,  2000] loss: 0.516113\n",
            "[8,  4000] loss: 0.540924\n",
            "[9,  2000] loss: 0.478360\n",
            "[9,  4000] loss: 0.506130\n",
            "[10,  2000] loss: 0.436833\n",
            "[10,  4000] loss: 0.466854\n",
            "[11,  2000] loss: 0.405612\n",
            "[11,  4000] loss: 0.428128\n",
            "[12,  2000] loss: 0.365128\n",
            "[12,  4000] loss: 0.392070\n",
            "[13,  2000] loss: 0.338236\n",
            "[13,  4000] loss: 0.365915\n",
            "[14,  2000] loss: 0.312871\n",
            "[14,  4000] loss: 0.342255\n",
            "[15,  2000] loss: 0.285024\n",
            "[15,  4000] loss: 0.310282\n",
            "[16,  2000] loss: 0.254327\n",
            "[16,  4000] loss: 0.286868\n",
            "[17,  2000] loss: 0.228580\n",
            "[17,  4000] loss: 0.260366\n",
            "[18,  2000] loss: 0.200980\n",
            "[18,  4000] loss: 0.234784\n",
            "[19,  2000] loss: 0.193393\n",
            "[19,  4000] loss: 0.214344\n",
            "[20,  2000] loss: 0.161287\n",
            "[20,  4000] loss: 0.200902\n",
            "[21,  2000] loss: 0.154625\n",
            "[21,  4000] loss: 0.171630\n",
            "[22,  2000] loss: 0.151329\n",
            "[22,  4000] loss: 0.167144\n",
            "[23,  2000] loss: 0.125129\n",
            "[23,  4000] loss: 0.153873\n",
            "[24,  2000] loss: 0.117232\n",
            "[24,  4000] loss: 0.124707\n",
            "[25,  2000] loss: 0.105728\n",
            "[25,  4000] loss: 0.113463\n",
            "[26,  2000] loss: 0.090744\n",
            "[26,  4000] loss: 0.112236\n",
            "[27,  2000] loss: 0.085540\n",
            "[27,  4000] loss: 0.093024\n",
            "[28,  2000] loss: 0.075028\n",
            "[28,  4000] loss: 0.093778\n",
            "[29,  2000] loss: 0.079661\n",
            "[29,  4000] loss: 0.083094\n",
            "[30,  2000] loss: 0.057615\n",
            "[30,  4000] loss: 0.072074\n",
            "[31,  2000] loss: 0.056356\n",
            "[31,  4000] loss: 0.060315\n",
            "[32,  2000] loss: 0.045631\n",
            "[32,  4000] loss: 0.063261\n",
            "[33,  2000] loss: 0.052093\n",
            "[33,  4000] loss: 0.067101\n",
            "[34,  2000] loss: 0.058081\n",
            "[34,  4000] loss: 0.060562\n",
            "[35,  2000] loss: 0.046869\n",
            "[35,  4000] loss: 0.053603\n",
            "[36,  2000] loss: 0.039861\n",
            "[36,  4000] loss: 0.049447\n",
            "[37,  2000] loss: 0.039681\n",
            "[37,  4000] loss: 0.042434\n",
            "[38,  2000] loss: 0.034484\n",
            "[38,  4000] loss: 0.037664\n",
            "[39,  2000] loss: 0.030717\n",
            "[39,  4000] loss: 0.033159\n",
            "[40,  2000] loss: 0.030621\n",
            "[40,  4000] loss: 0.030381\n",
            "[41,  2000] loss: 0.022085\n",
            "[41,  4000] loss: 0.028771\n",
            "[42,  2000] loss: 0.022884\n",
            "[42,  4000] loss: 0.024659\n"
          ],
          "name": "stdout"
        },
        {
          "output_type": "stream",
          "text": [
            "[43,  2000] loss: 0.026131\n",
            "[43,  4000] loss: 0.026552\n",
            "[44,  2000] loss: 0.024227\n",
            "[44,  4000] loss: 0.028621\n",
            "[45,  2000] loss: 0.022489\n",
            "[45,  4000] loss: 0.019383\n",
            "[46,  2000] loss: 0.019862\n",
            "[46,  4000] loss: 0.033631\n",
            "[47,  2000] loss: 0.025278\n",
            "[47,  4000] loss: 0.024051\n",
            "[48,  2000] loss: 0.021003\n",
            "[48,  4000] loss: 0.023745\n",
            "[49,  2000] loss: 0.024363\n",
            "[49,  4000] loss: 0.023130\n",
            "[50,  2000] loss: 0.024271\n",
            "[50,  4000] loss: 0.029729\n",
            "[51,  2000] loss: 0.025193\n",
            "[51,  4000] loss: 0.032065\n",
            "[52,  2000] loss: 0.026527\n",
            "[52,  4000] loss: 0.029387\n",
            "[53,  2000] loss: 0.027078\n",
            "[53,  4000] loss: 0.027771\n",
            "[54,  2000] loss: 0.024706\n",
            "[54,  4000] loss: 0.021626\n",
            "[55,  2000] loss: 0.027011\n",
            "[55,  4000] loss: 0.019568\n",
            "[56,  2000] loss: 0.014024\n",
            "[56,  4000] loss: 0.015649\n",
            "[57,  2000] loss: 0.011608\n",
            "[57,  4000] loss: 0.009887\n",
            "[58,  2000] loss: 0.007497\n",
            "[58,  4000] loss: 0.007812\n",
            "[59,  2000] loss: 0.007108\n",
            "[59,  4000] loss: 0.006725\n",
            "[60,  2000] loss: 0.007925\n",
            "[60,  4000] loss: 0.007022\n",
            "^^^^^^^^^^^^^^^^^\n",
            "Finished Optimization.\n",
            "The total time to train the model on the K80 GPU is : 161.6 minutes.\n"
          ],
          "name": "stdout"
        }
      ]
    },
    {
      "metadata": {
        "id": "Mjdl3_xX6qNi",
        "colab_type": "code",
        "colab": {
          "base_uri": "https://localhost:8080/",
          "height": 33
        },
        "outputId": "5ed52df0-21e8-4f65-a3cf-a7fe988fa998"
      },
      "cell_type": "code",
      "source": [
        "# Garbage collector\n",
        "gc.collect()"
      ],
      "execution_count": 6,
      "outputs": [
        {
          "output_type": "execute_result",
          "data": {
            "text/plain": [
              "319"
            ]
          },
          "metadata": {
            "tags": []
          },
          "execution_count": 6
        }
      ]
    },
    {
      "metadata": {
        "id": "8WfQ1F-tL0dq",
        "colab_type": "code",
        "colab": {}
      },
      "cell_type": "code",
      "source": [
        "\n",
        "\"\"\"\n",
        " \tThe Network Class with regular convolutions\n",
        "\"\"\"\n",
        "\n",
        "import torch\n",
        "import torch.nn as nn\n",
        "import math\n",
        "\n",
        "class Dense_Block(nn.Module):\n",
        "\tdef __init__(self, in_channels):\n",
        "\t\tsuper(Dense_Block, self).__init__()\n",
        "\n",
        "\t\tself.relu = nn.LeakyReLU(inplace = True)\n",
        "\t\tself.bn = nn.BatchNorm2d(num_features = in_channels)\n",
        "\n",
        "\t\tself.conv1 = nn.Conv2d(in_channels = in_channels, out_channels = 32, kernel_size = 3, stride = 1, padding = 1)\n",
        "\t\tself.conv2 = nn.Conv2d(in_channels = 32, out_channels = 32, kernel_size = 3, stride = 1, padding = 1)\n",
        "\t\tself.conv3 = nn.Conv2d(in_channels = 64, out_channels = 32, kernel_size = 3, stride = 1, padding = 1)\n",
        "\t\tself.conv4 = nn.Conv2d(in_channels = 96, out_channels = 32, kernel_size = 3, stride = 1, padding = 1)\n",
        "\t\tself.conv5 = nn.Conv2d(in_channels = 128, out_channels = 32, kernel_size = 3, stride = 1, padding = 1)\n",
        "\n",
        "    \n",
        "\tdef forward(self, x):\n",
        "\n",
        "\t\tbn = self.bn(x)\n",
        "\t\tconv1 = self.relu(self.conv1(bn))\n",
        "\n",
        "\t\tconv2 = self.relu(self.conv2(conv1))\n",
        "\t\tc2_dense = self.relu(torch.cat([conv1, conv2], 1))\n",
        "\n",
        "\t\tconv3 = self.relu(self.conv3(c2_dense))\n",
        "\t\tc3_dense = self.relu(torch.cat([conv1, conv2, conv3], 1))\n",
        "\n",
        "\t\tconv4 = self.relu(self.conv4(c3_dense))\n",
        "\t\tc4_dense = self.relu(torch.cat([conv1, conv2, conv3, conv4], 1))\n",
        "\n",
        "\t\tconv5 = self.relu(self.conv5(c4_dense))\n",
        "\t\tc5_dense = self.relu(torch.cat([conv1, conv2, conv3, conv4, conv5], 1))\n",
        "\n",
        "\t\treturn c5_dense\n",
        "\n",
        "\n",
        "class Transition_Layer(nn.Module):\n",
        "\tdef __init__(self, in_channels, out_channels):\n",
        "\t\tsuper(Transition_Layer, self).__init__()\n",
        "\n",
        "\t\tself.relu = nn.LeakyReLU(inplace = True)\n",
        "\t\tself.bn = nn.BatchNorm2d(num_features = out_channels)\n",
        "\t\tself.conv = nn.Conv2d(in_channels = in_channels, out_channels = out_channels, kernel_size = 1, bias = False)\n",
        "\t\tself.avg_pool = nn.AvgPool2d(kernel_size = 2, stride = 2, padding = 0)\n",
        "\n",
        "\tdef forward(self, x):\n",
        "\n",
        "\t\tbn = self.bn(self.relu(self.conv(x)))\n",
        "\t\tout = self.avg_pool(bn)\n",
        "\n",
        "\t\treturn out\n",
        "\n",
        "\n",
        "class DenseNet(nn.Module):\n",
        "\tdef __init__(self, nr_classes):\n",
        "\t\tsuper(DenseNet, self).__init__()\n",
        "\n",
        "\t\tself.lowconv = nn.Conv2d(in_channels = 3, out_channels = 64, kernel_size = 7, padding = 3, bias = False)\n",
        "\t\tself.relu = nn.LeakyReLU(inplace = True)\n",
        "\n",
        "\t\t# Make Dense Blocks\n",
        "\t\tself.denseblock1 = self._make_dense_block(Dense_Block, 64)\n",
        "\t\tself.denseblock2 = self._make_dense_block(Dense_Block, 128)\n",
        "\t\tself.denseblock3 = self._make_dense_block(Dense_Block, 128)\n",
        "\n",
        "\t\t# Make transition Layers\n",
        "\t\tself.transitionLayer1 = self._make_transition_layer(Transition_Layer, in_channels = 160, out_channels = 128)\n",
        "\t\tself.transitionLayer2 = self._make_transition_layer(Transition_Layer, in_channels = 160, out_channels = 128)\n",
        "\t\tself.transitionLayer3 = self._make_transition_layer(Transition_Layer, in_channels = 160, out_channels = 64)\n",
        "\n",
        "\t\t# Classifier\n",
        "\t\tself.bn = nn.BatchNorm2d(num_features = 64)\n",
        "\t\tself.pre_classifier = nn.Linear(64*4*4, 512)\n",
        "\t\tself.classifier = nn.Linear(512, nr_classes)\n",
        "\n",
        "\tdef _make_dense_block(self, block, in_channels):\n",
        "\t\tlayers = []\n",
        "\t\tlayers.append(block(in_channels))\n",
        "\t\treturn nn.Sequential(*layers)\n",
        "\n",
        "\tdef _make_transition_layer(self, layer, in_channels, out_channels):\n",
        "\t\tmodules = []\n",
        "\t\tmodules.append(layer(in_channels, out_channels))\n",
        "\t\treturn nn.Sequential(*modules)\n",
        "\n",
        "\tdef forward(self, x):\n",
        "\t\tout = self.relu(self.lowconv(x))\n",
        "\n",
        "\t\tout = self.denseblock1(out)\n",
        "\t\tout = self.transitionLayer1(out)\n",
        "\n",
        "\t\tout = self.denseblock2(out)\n",
        "\t\tout = self.transitionLayer2(out)\n",
        "\n",
        "\t\tout = self.denseblock3(out)\n",
        "\t\tout = self.transitionLayer3(out)\n",
        "    \n",
        "\t\tout = self.bn(out)\n",
        "\t\tout = out.view(-1, 64*4*4)\n",
        "\n",
        "\t\tout = self.pre_classifier(out)\n",
        "\t\tout = self.classifier(out)\n",
        "\n",
        "\t\treturn out"
      ],
      "execution_count": 0,
      "outputs": []
    },
    {
      "metadata": {
        "id": "bTQogsRZKd_c",
        "colab_type": "code",
        "colab": {
          "base_uri": "https://localhost:8080/",
          "height": 2032
        },
        "outputId": "18133e31-4ca8-4d10-a390-4c148c975a1e"
      },
      "cell_type": "code",
      "source": [
        "loss_vctr = []\n",
        "densenet = DenseNet(nr_classes)\n",
        "if use_gpu:\n",
        "  densenet.cuda()\n",
        "\n",
        "start = time.time()\n",
        "\n",
        "# Oprimization Criteria and Optimization method\n",
        "criterion1 = nn.CrossEntropyLoss().cuda() if use_gpu else nn.CrossEntropyLoss()\n",
        "optimizer1 = optim.SGD(densenet.parameters(), lr=learning_rate, momentum=momentum, nesterov = False)\n",
        "\n",
        "# Training Loop\n",
        "print(\"Start of the Optimization Processs..\")\n",
        "for epoch in range(nr_epochs):  \n",
        "\n",
        "    running_loss1 = 0.0\n",
        "    for i, data in enumerate(trainloader, 0):\n",
        "        # get the inputs\n",
        "        inputs, labels = data\n",
        "        inputs = Variable(inputs).cuda() \n",
        "        labels = Variable(labels).cuda()\n",
        "        \n",
        "        # zero the parameter gradients\n",
        "        optimizer1.zero_grad()\n",
        "\n",
        "        # forward + backward + optimize\n",
        "        outputs1 = densenet(inputs)\n",
        "        loss1 = criterion1(outputs1, labels)\n",
        "        loss1.backward()\n",
        "        optimizer1.step()\n",
        "\n",
        "        # print statistics\n",
        "        running_loss1 += loss1.item()\n",
        "        if i % 2000 == 1999:    # print every 2000 mini-batches\n",
        "            loss_vctr.append(running_loss1 / 2000)\n",
        "            print('[%d, %5d] loss: %.6f' %\n",
        "                  (epoch + 1, i + 1, running_loss1 / 2000))\n",
        "            running_loss1 = 0.0\n",
        "    \n",
        "print(\"^^^^^^^^^^^^^^^^^\")\n",
        "print('Finished Optimization.')\n",
        "end = time.time() # Time counted in seconds\n",
        "print(\"The total time to train the model on the K80 GPU is : {:.1f} minutes.\".format((end - start)/60))"
      ],
      "execution_count": 9,
      "outputs": [
        {
          "output_type": "stream",
          "text": [
            "Start of the Optimization Processs..\n",
            "[1,  2000] loss: 1.721880\n",
            "[1,  4000] loss: 1.368949\n",
            "[2,  2000] loss: 1.132719\n",
            "[2,  4000] loss: 1.037682\n",
            "[3,  2000] loss: 0.915579\n",
            "[3,  4000] loss: 0.876902\n",
            "[4,  2000] loss: 0.787436\n",
            "[4,  4000] loss: 0.766910\n",
            "[5,  2000] loss: 0.704700\n",
            "[5,  4000] loss: 0.707645\n",
            "[6,  2000] loss: 0.639174\n",
            "[6,  4000] loss: 0.633244\n",
            "[7,  2000] loss: 0.572925\n",
            "[7,  4000] loss: 0.601752\n",
            "[8,  2000] loss: 0.523357\n",
            "[8,  4000] loss: 0.549880\n",
            "[9,  2000] loss: 0.488107\n",
            "[9,  4000] loss: 0.510672\n",
            "[10,  2000] loss: 0.447557\n",
            "[10,  4000] loss: 0.472651\n",
            "[11,  2000] loss: 0.419125\n",
            "[11,  4000] loss: 0.436700\n",
            "[12,  2000] loss: 0.382186\n",
            "[12,  4000] loss: 0.406234\n",
            "[13,  2000] loss: 0.337551\n",
            "[13,  4000] loss: 0.382120\n",
            "[14,  2000] loss: 0.323883\n",
            "[14,  4000] loss: 0.346175\n",
            "[15,  2000] loss: 0.287486\n",
            "[15,  4000] loss: 0.318435\n",
            "[16,  2000] loss: 0.260553\n",
            "[16,  4000] loss: 0.295234\n",
            "[17,  2000] loss: 0.244508\n",
            "[17,  4000] loss: 0.262450\n",
            "[18,  2000] loss: 0.229094\n",
            "[18,  4000] loss: 0.245431\n",
            "[19,  2000] loss: 0.198432\n",
            "[19,  4000] loss: 0.227759\n",
            "[20,  2000] loss: 0.171518\n",
            "[20,  4000] loss: 0.193830\n",
            "[21,  2000] loss: 0.162036\n",
            "[21,  4000] loss: 0.191117\n",
            "[22,  2000] loss: 0.151906\n",
            "[22,  4000] loss: 0.168715\n",
            "[23,  2000] loss: 0.134286\n",
            "[23,  4000] loss: 0.152715\n",
            "[24,  2000] loss: 0.120817\n",
            "[24,  4000] loss: 0.141675\n",
            "[25,  2000] loss: 0.104675\n",
            "[25,  4000] loss: 0.120691\n",
            "[26,  2000] loss: 0.098088\n",
            "[26,  4000] loss: 0.114163\n",
            "[27,  2000] loss: 0.086729\n",
            "[27,  4000] loss: 0.098416\n",
            "[28,  2000] loss: 0.086444\n",
            "[28,  4000] loss: 0.106903\n",
            "[29,  2000] loss: 0.077871\n",
            "[29,  4000] loss: 0.082906\n",
            "[30,  2000] loss: 0.066846\n",
            "[30,  4000] loss: 0.069439\n",
            "[31,  2000] loss: 0.054316\n",
            "[31,  4000] loss: 0.072574\n",
            "[32,  2000] loss: 0.052973\n",
            "[32,  4000] loss: 0.069784\n",
            "[33,  2000] loss: 0.056979\n",
            "[33,  4000] loss: 0.060277\n",
            "[34,  2000] loss: 0.051737\n",
            "[34,  4000] loss: 0.057854\n",
            "[35,  2000] loss: 0.036837\n",
            "[35,  4000] loss: 0.046491\n",
            "[36,  2000] loss: 0.051921\n",
            "[36,  4000] loss: 0.047501\n",
            "[37,  2000] loss: 0.038937\n",
            "[37,  4000] loss: 0.049421\n",
            "[38,  2000] loss: 0.044128\n",
            "[38,  4000] loss: 0.045807\n",
            "[39,  2000] loss: 0.043024\n",
            "[39,  4000] loss: 0.046139\n",
            "[40,  2000] loss: 0.034982\n",
            "[40,  4000] loss: 0.044274\n",
            "[41,  2000] loss: 0.041460\n",
            "[41,  4000] loss: 0.038971\n",
            "[42,  2000] loss: 0.033989\n",
            "[42,  4000] loss: 0.038667\n"
          ],
          "name": "stdout"
        },
        {
          "output_type": "stream",
          "text": [
            "[43,  2000] loss: 0.033733\n",
            "[43,  4000] loss: 0.036785\n",
            "[44,  2000] loss: 0.023468\n",
            "[44,  4000] loss: 0.027815\n",
            "[45,  2000] loss: 0.025987\n",
            "[45,  4000] loss: 0.029791\n",
            "[46,  2000] loss: 0.025484\n",
            "[46,  4000] loss: 0.032742\n",
            "[47,  2000] loss: 0.024315\n",
            "[47,  4000] loss: 0.024484\n",
            "[48,  2000] loss: 0.020246\n",
            "[48,  4000] loss: 0.020302\n",
            "[49,  2000] loss: 0.013789\n",
            "[49,  4000] loss: 0.017458\n",
            "[50,  2000] loss: 0.014889\n",
            "[50,  4000] loss: 0.016084\n",
            "[51,  2000] loss: 0.011991\n",
            "[51,  4000] loss: 0.013800\n",
            "[52,  2000] loss: 0.007589\n",
            "[52,  4000] loss: 0.009840\n",
            "[53,  2000] loss: 0.008995\n",
            "[53,  4000] loss: 0.009027\n",
            "[54,  2000] loss: 0.009584\n",
            "[54,  4000] loss: 0.006561\n",
            "[55,  2000] loss: 0.004871\n",
            "[55,  4000] loss: 0.005880\n",
            "[56,  2000] loss: 0.004763\n",
            "[56,  4000] loss: 0.005576\n",
            "[57,  2000] loss: 0.003585\n",
            "[57,  4000] loss: 0.003564\n",
            "[58,  2000] loss: 0.004086\n",
            "[58,  4000] loss: 0.004891\n",
            "[59,  2000] loss: 0.003812\n",
            "[59,  4000] loss: 0.002728\n",
            "[60,  2000] loss: 0.002489\n",
            "[60,  4000] loss: 0.002745\n",
            "^^^^^^^^^^^^^^^^^\n",
            "Finished Optimization.\n",
            "The total time to train the model on the K80 GPU is : 186.4 minutes.\n"
          ],
          "name": "stdout"
        }
      ]
    },
    {
      "metadata": {
        "id": "yzopngxJOEG6",
        "colab_type": "code",
        "colab": {
          "base_uri": "https://localhost:8080/",
          "height": 33
        },
        "outputId": "08058488-838a-4ed6-ef8f-7710b835d19c"
      },
      "cell_type": "code",
      "source": [
        "gc.collect()"
      ],
      "execution_count": 10,
      "outputs": [
        {
          "output_type": "execute_result",
          "data": {
            "text/plain": [
              "3065"
            ]
          },
          "metadata": {
            "tags": []
          },
          "execution_count": 10
        }
      ]
    },
    {
      "metadata": {
        "id": "thCtk2wmp-I8",
        "colab_type": "code",
        "colab": {
          "base_uri": "https://localhost:8080/",
          "height": 376
        },
        "outputId": "c46fc77a-9b25-4270-fd08-77a705d6dad6"
      },
      "cell_type": "code",
      "source": [
        "from matplotlib import pyplot as plt\n",
        "import numpy as np\n",
        "\n",
        "x = range(120)\n",
        "x_epoch = [z for z in range(1, 121) if z%15 == 0]\n",
        "x_ticks_labels = ['epoch ' + str(x) for x in range(1, 61) if x%8 == 0]\n",
        "\n",
        "plt.figure(1)\n",
        "plt.plot(x, loss_vctr_trnsps, color = 'k', label = \"Training Error of the Model with Transpose Convolution.\", linewidth = 9, alpha = 0.4)\n",
        "plt.plot(x, loss_vctr, color = 'r', label = \"Training Error of the Model with Regular Convolution.\", linewidth = 2, alpha = 0.3)\n",
        "plt.xticks(x_epoch, x_ticks_labels)\n",
        "plt.title(\"Training Error Plot.\")\n",
        "plt.ylabel(\"Training error loss.\")\n",
        "plt.xlabel(\"Number of Epochs.\")\n",
        "plt.legend()\n",
        "# plt.savefig(\"training_plot.png\", dpi = 300)  If you want to save your plot, uncomment.\n",
        "plt.show()"
      ],
      "execution_count": 24,
      "outputs": [
        {
          "output_type": "display_data",
          "data": {
            "image/png": "[encoded data removed]",
            "text/plain": [
              "<matplotlib.figure.Figure at 0x7fa2891baf28>"
            ]
          },
          "metadata": {
            "tags": []
          }
        }
      ]
    },
    {
      "metadata": {
        "id": "QGQ3Zy6cZ2Qd",
        "colab_type": "code",
        "colab": {
          "base_uri": "https://localhost:8080/",
          "height": 33
        },
        "outputId": "7ea63514-10c1-4dbb-dca2-9b50efbe11ea"
      },
      "cell_type": "code",
      "source": [
        "correct = 0\n",
        "total = 0\n",
        "\n",
        "for data in testloader:\n",
        "        images, labels = data\n",
        "        images = Variable(images).cuda()\n",
        "        outputs = densenet_trnsps(images)\n",
        "        _, predicted = torch.max(outputs.cpu().data, 1)\n",
        "        total += labels.size(0)\n",
        "        correct += (predicted == labels).sum()\n",
        "        \n",
        "print('Accuracy of the Network with ^Transpose^ Convolutions on the 10000 test images: %d %%' % (\n",
        "    100 * correct / total))"
      ],
      "execution_count": 13,
      "outputs": [
        {
          "output_type": "stream",
          "text": [
            "Accuracy of the Network with ^Transpose^ Convolutions on the 10000 test images: 79 %\n"
          ],
          "name": "stdout"
        }
      ]
    },
    {
      "metadata": {
        "id": "JpCZmwmkx_3m",
        "colab_type": "code",
        "colab": {
          "base_uri": "https://localhost:8080/",
          "height": 228
        },
        "outputId": "6d1f7092-404c-4749-b579-17b8cf5dc5c5"
      },
      "cell_type": "code",
      "source": [
        "class_correct = list(0. for i in range(10))\n",
        "class_total = list(0. for i in range(10))\n",
        "with torch.no_grad():\n",
        "    for data in testloader:\n",
        "        images, labels = data\n",
        "        outputs = densenet_trnsps(images.cuda())\n",
        "        _, predicted = torch.max(outputs, 1)\n",
        "        c = (predicted.cpu() == labels).squeeze()\n",
        "        for i in range(4):\n",
        "            label = labels[i]\n",
        "            class_correct[label] += c[i].item()\n",
        "            class_total[label] += 1\n",
        "\n",
        "\n",
        "print(\"Accuracy of the Network with ^Transpose^ Convolutions on each individual class:\")\n",
        "print(\"^^^^^^^^^^^^^^^^^^^^^^^^^^^^^^^^^^^^^^^^^^^^^^^^^^^^^^^^^^^^^^^^^^^^^^^^^^^^^\")\n",
        "for i in range(10):\n",
        "    print('Accuracy of %5s : %2d %%' % (\n",
        "        classes[i], 100 * class_correct[i] / class_total[i]))\n",
        "    \n",
        "print(\"^^^^^^^^^^^^^^^^^^^^^^^^^^^^^^^^^^^^^^^^^^^^^^^^^^^^^^^^^^^^^^^^^^^^^^^^^^^^^\")"
      ],
      "execution_count": 14,
      "outputs": [
        {
          "output_type": "stream",
          "text": [
            "Accuracy of the Network with ^Transpose^ Convolutions on each individual class:\n",
            "^^^^^^^^^^^^^^^^^^^^^^^^^^^^^^^^^^^^^^^^^^^^^^^^^^^^^^^^^^^^^^^^^^^^^^^^^^^^^\n",
            "Accuracy of plane : 84 %\n",
            "Accuracy of   car : 89 %\n",
            "Accuracy of  bird : 67 %\n",
            "Accuracy of   cat : 60 %\n",
            "Accuracy of  deer : 76 %\n",
            "Accuracy of   dog : 74 %\n",
            "Accuracy of  frog : 83 %\n",
            "Accuracy of horse : 80 %\n",
            "Accuracy of  ship : 89 %\n",
            "Accuracy of truck : 88 %\n",
            "^^^^^^^^^^^^^^^^^^^^^^^^^^^^^^^^^^^^^^^^^^^^^^^^^^^^^^^^^^^^^^^^^^^^^^^^^^^^^\n"
          ],
          "name": "stdout"
        }
      ]
    },
    {
      "metadata": {
        "id": "e7OJteddfQCA",
        "colab_type": "code",
        "colab": {
          "base_uri": "https://localhost:8080/",
          "height": 33
        },
        "outputId": "93ee1716-10c2-406f-a926-4772ff45ea4e"
      },
      "cell_type": "code",
      "source": [
        "correct1 = 0\n",
        "total1 = 0\n",
        "\n",
        "for data in testloader:\n",
        "        images, labels = data\n",
        "        images = Variable(images).cuda()\n",
        "        outputs1 = densenet(images)\n",
        "        _, predicted1 = torch.max(outputs1.cpu().data, 1)\n",
        "        total1 += labels.size(0)\n",
        "        correct1 += (predicted1 == labels).sum()\n",
        "        \n",
        "print('Accuracy of the Network with ^Regular^ Convolutions on the 10000 test images: %d %%' % (\n",
        "    100 * correct1 / total1))"
      ],
      "execution_count": 17,
      "outputs": [
        {
          "output_type": "stream",
          "text": [
            "Accuracy of the Network with ^Regular^ Convolutions on the 10000 test images: 79 %\n"
          ],
          "name": "stdout"
        }
      ]
    },
    {
      "metadata": {
        "id": "xL-pshjEfQ-J",
        "colab_type": "code",
        "colab": {
          "base_uri": "https://localhost:8080/",
          "height": 228
        },
        "outputId": "4ec4f18e-39dc-42e3-87eb-b658518dd668"
      },
      "cell_type": "code",
      "source": [
        "class_correct1 = list(0. for i in range(10))\n",
        "class_total1 = list(0. for i in range(10))\n",
        "with torch.no_grad():\n",
        "    for data in testloader:\n",
        "        images, labels = data\n",
        "        outputs = densenet(images.cuda())\n",
        "        _, predicted = torch.max(outputs, 1)\n",
        "        c = (predicted.cpu() == labels).squeeze()\n",
        "        for i in range(4):\n",
        "            label = labels[i]\n",
        "            class_correct1[label] += c[i].item()\n",
        "            class_total1[label] += 1\n",
        "\n",
        "print(\"Accuracy of the Network with ^Regular^ Convolutions on each individual class:\")\n",
        "print(\"^^^^^^^^^^^^^^^^^^^^^^^^^^^^^^^^^^^^^^^^^^^^^^^^^^^^^^^^^^^^^^^^^^^^^^^^^^^^^\")\n",
        "\n",
        "for i in range(10):\n",
        "    print('Accuracy of %5s : %2d %%' % (\n",
        "        classes[i], 100 * class_correct[i] / class_total[i]))\n",
        "print(\"^^^^^^^^^^^^^^^^^^^^^^^^^^^^^^^^^^^^^^^^^^^^^^^^^^^^^^^^^^^^^^^^^^^^^^^^^^^^^\")"
      ],
      "execution_count": 18,
      "outputs": [
        {
          "output_type": "stream",
          "text": [
            "Accuracy of the Network with ^Regular^ Convolutions on each individual class:\n",
            "^^^^^^^^^^^^^^^^^^^^^^^^^^^^^^^^^^^^^^^^^^^^^^^^^^^^^^^^^^^^^^^^^^^^^^^^^^^^^\n",
            "Accuracy of plane : 85 %\n",
            "Accuracy of   car : 88 %\n",
            "Accuracy of  bird : 72 %\n",
            "Accuracy of   cat : 62 %\n",
            "Accuracy of  deer : 71 %\n",
            "Accuracy of   dog : 72 %\n",
            "Accuracy of  frog : 83 %\n",
            "Accuracy of horse : 79 %\n",
            "Accuracy of  ship : 88 %\n",
            "Accuracy of truck : 86 %\n",
            "^^^^^^^^^^^^^^^^^^^^^^^^^^^^^^^^^^^^^^^^^^^^^^^^^^^^^^^^^^^^^^^^^^^^^^^^^^^^^\n"
          ],
          "name": "stdout"
        }
      ]
    }
  ]
}