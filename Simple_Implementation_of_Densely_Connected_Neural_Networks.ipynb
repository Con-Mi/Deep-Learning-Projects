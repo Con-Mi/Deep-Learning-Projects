{
  "nbformat": 4,
  "nbformat_minor": 0,
  "metadata": {
    "colab": {
      "name": "Simple Implementation of Densely Connected Neural Networks.ipynb",
      "version": "0.3.2",
      "provenance": [],
      "collapsed_sections": []
    },
    "kernelspec": {
      "name": "python3",
      "display_name": "Python 3"
    },
    "accelerator": "GPU"
  },
  "cells": [
    {
      "cell_type": "markdown",
      "metadata": {
        "id": "view-in-github",
        "colab_type": "text"
      },
      "source": [
        "[View in Colaboratory](https://colab.research.google.com/github/Con-Mi/Deep-Learning-Projects/blob/master/Simple_Implementation_of_Densely_Connected_Neural_Networks.ipynb)"
      ]
    },
    {
      "metadata": {
        "id": "PsQPitv97yFa",
        "colab_type": "text"
      },
      "cell_type": "markdown",
      "source": [
        "## Check my blog post [here](https://goosemi.wordpress.com/) for a more detail explanation of this model."
      ]
    },
    {
      "metadata": {
        "id": "yijKuHjI8ZRS",
        "colab_type": "code",
        "colab": {}
      },
      "cell_type": "code",
      "source": [
        "# Install PyTorch(version 4) and torchvision libraries\n",
        "!pip install torch torchvision"
      ],
      "execution_count": 0,
      "outputs": []
    },
    {
      "metadata": {
        "id": "JiaBkGkU207v",
        "colab_type": "code",
        "colab": {}
      },
      "cell_type": "code",
      "source": [
        "\"\"\"\n",
        "\tThe Network Class\n",
        "\"\"\"\n",
        "\n",
        "import torch\n",
        "import torch.nn as nn\n",
        "import math\n",
        "\n",
        "class Dense_Block(nn.Module):\n",
        "\tdef __init__(self, in_channels):\n",
        "\t\tsuper(Dense_Block, self).__init__()\n",
        "\n",
        "\t\tself.relu = nn.ReLU(inplace = True)\n",
        "\t\tself.bn = nn.BatchNorm2d(num_features = in_channels)\n",
        "\n",
        "\t\tself.conv1 = nn.Conv2d(in_channels = in_channels, out_channels = 32, kernel_size = 3, stride = 1, padding = 1)\n",
        "\t\tself.conv2 = nn.Conv2d(in_channels = 32, out_channels = 32, kernel_size = 3, stride = 1, padding = 1)\n",
        "\t\tself.conv3 = nn.Conv2d(in_channels = 64, out_channels = 32, kernel_size = 3, stride = 1, padding = 1)\n",
        "\t\tself.conv4 = nn.Conv2d(in_channels = 96, out_channels = 32, kernel_size = 3, stride = 1, padding = 1)\n",
        "\t\tself.conv5 = nn.Conv2d(in_channels = 128, out_channels = 32, kernel_size = 3, stride = 1, padding = 1)\n",
        "\n",
        "    \n",
        "\tdef forward(self, x):\n",
        "\n",
        "\t\tbn = self.bn(x)\n",
        "\t\tconv1 = self.relu(self.conv1(bn))\n",
        "\n",
        "\t\tconv2 = self.relu(self.conv2(conv1))\n",
        "\t\tc2_dense = self.relu(torch.cat([conv1, conv2], 1))\n",
        "\n",
        "\t\tconv3 = self.relu(self.conv3(c2_dense))\n",
        "\t\tc3_dense = self.relu(torch.cat([conv1, conv2, conv3], 1))\n",
        "\n",
        "\t\tconv4 = self.relu(self.conv4(c3_dense))\n",
        "\t\tc4_dense = self.relu(torch.cat([conv1, conv2, conv3, conv4], 1))\n",
        "\n",
        "\t\tconv5 = self.relu(self.conv5(c4_dense))\n",
        "\t\tc5_dense = self.relu(torch.cat([conv1, conv2, conv3, conv4, conv5], 1))\n",
        "\n",
        "\t\treturn c5_dense\n",
        "\n",
        "\n",
        "class Transition_Layer(nn.Module):\n",
        "\tdef __init__(self, in_channels, out_channels):\n",
        "\t\tsuper(Transition_Layer, self).__init__()\n",
        "\n",
        "\t\tself.relu = nn.ReLU(inplace = True)\n",
        "\t\tself.bn = nn.BatchNorm2d(num_features = out_channels)\n",
        "\t\tself.conv = nn.Conv2d(in_channels = in_channels, out_channels = out_channels, kernel_size = 1, bias = False)\n",
        "\t\tself.avg_pool = nn.AvgPool2d(kernel_size = 2, stride = 2, padding = 0)\n",
        "\n",
        "\tdef forward(self, x):\n",
        "\n",
        "\t\tbn = self.bn(self.relu(self.conv(x)))\n",
        "\t\tout = self.avg_pool(bn)\n",
        "\n",
        "\t\treturn out\n",
        "\n",
        "\n",
        "class DenseNet(nn.Module):\n",
        "\tdef __init__(self, nr_classes):\n",
        "\t\tsuper(DenseNet, self).__init__()\n",
        "\n",
        "\t\tself.lowconv = nn.Conv2d(in_channels = 3, out_channels = 64, kernel_size = 7, padding = 3, bias = False)\n",
        "\t\tself.relu = nn.ReLU()\n",
        "\n",
        "\t\t# Make Dense Blocks\n",
        "\t\tself.denseblock1 = self._make_dense_block(Dense_Block, 64)\n",
        "\t\tself.denseblock2 = self._make_dense_block(Dense_Block, 128)\n",
        "\t\tself.denseblock3 = self._make_dense_block(Dense_Block, 128)\n",
        "\n",
        "\t\t# Make transition Layers\n",
        "\t\tself.transitionLayer1 = self._make_transition_layer(Transition_Layer, in_channels = 160, out_channels = 128)\n",
        "\t\tself.transitionLayer2 = self._make_transition_layer(Transition_Layer, in_channels = 160, out_channels = 128)\n",
        "\t\tself.transitionLayer3 = self._make_transition_layer(Transition_Layer, in_channels = 160, out_channels = 64)\n",
        "\n",
        "\t\t# Classifier\n",
        "\t\tself.bn = nn.BatchNorm2d(num_features = 64)\n",
        "\t\tself.pre_classifier = nn.Linear(64*4*4, 512)\n",
        "\t\tself.classifier = nn.Linear(512, nr_classes)\n",
        "\n",
        "\tdef _make_dense_block(self, block, in_channels):\n",
        "\t\tlayers = []\n",
        "\t\tlayers.append(block(in_channels))\n",
        "\t\treturn nn.Sequential(*layers)\n",
        "\n",
        "\tdef _make_transition_layer(self, layer, in_channels, out_channels):\n",
        "\t\tmodules = []\n",
        "\t\tmodules.append(layer(in_channels, out_channels))\n",
        "\t\treturn nn.Sequential(*modules)\n",
        "\n",
        "\tdef forward(self, x):\n",
        "\t\tout = self.relu(self.lowconv(x))\n",
        "\n",
        "\t\tout = self.denseblock1(out)\n",
        "\t\tout = self.transitionLayer1(out)\n",
        "\n",
        "\t\tout = self.denseblock2(out)\n",
        "\t\tout = self.transitionLayer2(out)\n",
        "\n",
        "\t\tout = self.denseblock3(out)\n",
        "\t\tout = self.transitionLayer3(out)\n",
        "    \n",
        "\t\tout = self.bn(out)\n",
        "\t\tout = out.view(-1, 64*4*4)\n",
        "\n",
        "\t\tout = self.pre_classifier(out)\n",
        "\t\tout = self.classifier(out)\n",
        "\n",
        "\t\treturn out\n"
      ],
      "execution_count": 0,
      "outputs": []
    },
    {
      "metadata": {
        "id": "6UXxoDuR239p",
        "colab_type": "code",
        "colab": {}
      },
      "cell_type": "code",
      "source": [
        "import torch\n",
        "import torchvision\n",
        "import torchvision.transforms as transforms\n",
        "\n",
        "transform = transforms.Compose(\n",
        "    [transforms.ToTensor(),\n",
        "     transforms.Normalize((0.5, 0.5, 0.5), (0.5, 0.5, 0.5))])\n",
        "\n",
        "trainset = torchvision.datasets.CIFAR10(root='./data', train=True,\n",
        "                                        download=True, transform=transform)\n",
        "\n",
        "testset = torchvision.datasets.CIFAR10(root='./data', train=False,\n",
        "                                       download=True, transform=transform)\n",
        "\n",
        "classes = ('plane', 'car', 'bird', 'cat',\n",
        "           'deer', 'dog', 'frog', 'horse', 'ship', 'truck')"
      ],
      "execution_count": 0,
      "outputs": []
    },
    {
      "metadata": {
        "id": "M4b1u2BTBDus",
        "colab_type": "code",
        "colab": {
          "base_uri": "https://localhost:8080/",
          "height": 428
        },
        "outputId": "ee99030c-9d74-4a0a-c05e-b7243ea58bf4"
      },
      "cell_type": "code",
      "source": [
        "import time\n",
        "import torch.optim as optim\n",
        "from torch.autograd import Variable\n",
        "\n",
        "# GPU flag\n",
        "use_gpu = torch.cuda.is_available()\n",
        "\n",
        "# Hyperparameters\n",
        "batch_size = 10\n",
        "momentum = 0.95\n",
        "learning_rate = 0.001\n",
        "nr_classes = 10\n",
        "nr_epochs = 10\n",
        "loss_vctr = []\n",
        "\n",
        "# Load the model on the GPU\n",
        "densenet = DenseNet(nr_classes)\n",
        "if use_gpu:\n",
        "  densenet.cuda()\n",
        "\n",
        "# Data Loaders\n",
        "trainloader = torch.utils.data.DataLoader(trainset, batch_size=batch_size,\n",
        "                                          shuffle=True, num_workers=4)\n",
        "\n",
        "testloader = torch.utils.data.DataLoader(testset, batch_size=batch_size,\n",
        "                                         shuffle=False, num_workers=4)\n",
        "\n",
        "start = time.time()\n",
        "\n",
        "# Oprimization Criteria and Optimization method\n",
        "criterion = nn.CrossEntropyLoss().cuda() if use_gpu else nn.CrossEntropyLoss()\n",
        "optimizer = optim.SGD(densenet.parameters(), lr=learning_rate, momentum=momentum, nesterov = False)\n",
        "\n",
        "# Training Loop\n",
        "print(\"Start of the Optimization Processs..\")\n",
        "for epoch in range(nr_epochs):  \n",
        "\n",
        "    running_loss = 0.0\n",
        "    for i, data in enumerate(trainloader, 0):\n",
        "        # get the inputs\n",
        "        inputs, labels = data\n",
        "        inputs = Variable(inputs).cuda() \n",
        "        labels = Variable(labels).cuda()\n",
        "        \n",
        "        # zero the parameter gradients\n",
        "        optimizer.zero_grad()\n",
        "\n",
        "        # forward + backward + optimize\n",
        "        outputs = densenet(inputs)\n",
        "        loss = criterion(outputs, labels)\n",
        "        loss.backward()\n",
        "        optimizer.step()\n",
        "\n",
        "        # print statistics\n",
        "        running_loss += loss.item()\n",
        "        if i % 2000 == 1999:    # print every 2000 mini-batches\n",
        "            loss_vctr.append(running_loss / 2000)\n",
        "            print('[%d, %5d] loss: %.3f' %\n",
        "                  (epoch + 1, i + 1, running_loss / 2000))\n",
        "            running_loss = 0.0\n",
        "    \n",
        "print(\"^^^^^^^^^^^^^^^^^\")\n",
        "print('Finished Optimization.')\n",
        "end = time.time() # Time counted in seconds\n",
        "print(\"The total time to train the model on the K80 GPU is : {:.1f} minutes.\".format((end - start)/60))"
      ],
      "execution_count": 4,
      "outputs": [
        {
          "output_type": "stream",
          "text": [
            "Start of the Optimization Processs..\n",
            "[1,  2000] loss: 1.578\n",
            "[1,  4000] loss: 1.274\n",
            "[2,  2000] loss: 1.009\n",
            "[2,  4000] loss: 0.922\n",
            "[3,  2000] loss: 0.795\n",
            "[3,  4000] loss: 0.770\n",
            "[4,  2000] loss: 0.668\n",
            "[4,  4000] loss: 0.671\n",
            "[5,  2000] loss: 0.598\n",
            "[5,  4000] loss: 0.595\n",
            "[6,  2000] loss: 0.532\n",
            "[6,  4000] loss: 0.539\n",
            "[7,  2000] loss: 0.476\n",
            "[7,  4000] loss: 0.480\n",
            "[8,  2000] loss: 0.418\n",
            "[8,  4000] loss: 0.455\n",
            "[9,  2000] loss: 0.385\n",
            "[9,  4000] loss: 0.415\n",
            "[10,  2000] loss: 0.344\n",
            "[10,  4000] loss: 0.383\n",
            "^^^^^^^^^^^^^^^^^\n",
            "Finished Optimization.\n",
            "The total time to train the model on the K80 GPU is : 30.5 minutes.\n"
          ],
          "name": "stdout"
        }
      ]
    },
    {
      "metadata": {
        "id": "thCtk2wmp-I8",
        "colab_type": "code",
        "colab": {
          "base_uri": "https://localhost:8080/",
          "height": 376
        },
        "outputId": "5235ef30-18ca-4ac8-a020-d7950b22c121"
      },
      "cell_type": "code",
      "source": [
        "from matplotlib import pyplot as plt\n",
        "import numpy as np\n",
        "\n",
        "x = range(20)\n",
        "x_epoch = [z for z in range(1, 21) if z%2 == 0] \n",
        "x_ticks_labels = ['epoch ' + str(x) for x in range(1, 11)]\n",
        "\n",
        "plt.figure(1)\n",
        "plt.plot(x, loss_vctr, color = 'k', label = \"Training Error with SGD.\")\n",
        "plt.xticks(x_epoch, x_ticks_labels)\n",
        "plt.title(\"Training Error Plot.\")\n",
        "plt.ylabel(\"Training error loss.\")\n",
        "plt.xlabel(\"Number of Epochs.\")\n",
        "plt.legend()\n",
        "# plt.savefig(\"training_plot.png\", dpi = 300)  If you want to save your plot, uncomment.\n",
        "plt.show()"
      ],
      "execution_count": 39,
      "outputs": [
        {
          "output_type": "display_data",
          "data": {
            "image/png": "[encoded data removed]",
            "text/plain": [
              "<matplotlib.figure.Figure at 0x7ff7b180a5c0>"
            ]
          },
          "metadata": {
            "tags": []
          }
        }
      ]
    },
    {
      "metadata": {
        "id": "QGQ3Zy6cZ2Qd",
        "colab_type": "code",
        "colab": {
          "base_uri": "https://localhost:8080/",
          "height": 34
        },
        "outputId": "a70d1873-8a5c-4e9a-a1e8-9aa6bdc72cf8"
      },
      "cell_type": "code",
      "source": [
        "correct = 0\n",
        "total = 0\n",
        "\n",
        "for data in testloader:\n",
        "        images, labels = data\n",
        "        images = Variable(images).cuda()\n",
        "        outputs = densenet(images)\n",
        "        _, predicted = torch.max(outputs.cpu().data, 1)\n",
        "        total += labels.size(0)\n",
        "        correct += (predicted == labels).sum()\n",
        "        \n",
        "print('Accuracy of the network on the 10000 test images: %d %%' % (\n",
        "    100 * correct / total))"
      ],
      "execution_count": 6,
      "outputs": [
        {
          "output_type": "stream",
          "text": [
            "Accuracy of the network on the 10000 test images: 79 %\n"
          ],
          "name": "stdout"
        }
      ]
    },
    {
      "metadata": {
        "id": "JpCZmwmkx_3m",
        "colab_type": "code",
        "colab": {
          "base_uri": "https://localhost:8080/",
          "height": 188
        },
        "outputId": "7e54b3f5-abb5-416f-a201-960fefeb7fad"
      },
      "cell_type": "code",
      "source": [
        "class_correct = list(0. for i in range(10))\n",
        "class_total = list(0. for i in range(10))\n",
        "with torch.no_grad():\n",
        "    for data in testloader:\n",
        "        images, labels = data\n",
        "        outputs = densenet(images.cuda())\n",
        "        _, predicted = torch.max(outputs, 1)\n",
        "        c = (predicted.cpu() == labels).squeeze()\n",
        "        for i in range(4):\n",
        "            label = labels[i]\n",
        "            class_correct[label] += c[i].item()\n",
        "            class_total[label] += 1\n",
        "\n",
        "\n",
        "for i in range(10):\n",
        "    print('Accuracy of %5s : %2d %%' % (\n",
        "        classes[i], 100 * class_correct[i] / class_total[i]))"
      ],
      "execution_count": 13,
      "outputs": [
        {
          "output_type": "stream",
          "text": [
            "Accuracy of plane : 79 %\n",
            "Accuracy of   car : 87 %\n",
            "Accuracy of  bird : 71 %\n",
            "Accuracy of   cat : 63 %\n",
            "Accuracy of  deer : 72 %\n",
            "Accuracy of   dog : 71 %\n",
            "Accuracy of  frog : 86 %\n",
            "Accuracy of horse : 78 %\n",
            "Accuracy of  ship : 89 %\n",
            "Accuracy of truck : 91 %\n"
          ],
          "name": "stdout"
        }
      ]
    }
  ]
}